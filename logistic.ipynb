{
 "cells": [
  {
   "cell_type": "code",
   "execution_count": 87,
   "metadata": {
    "collapsed": true
   },
   "outputs": [],
   "source": [
    "import numpy as np\n",
    "def sigmod(x,deriv=False):\n",
    "    if(deriv==True):\n",
    "        return x*(1-x)\n",
    "    return 1/(1+np.exp(-x))\n",
    "\n",
    "        "
   ]
  },
  {
   "cell_type": "code",
   "execution_count": 88,
   "metadata": {},
   "outputs": [],
   "source": [
    "x=np.array([[0,0,1],[0,1,1],[1,0,1],[1,1,1],[0,0,1]])\n"
   ]
  },
  {
   "cell_type": "code",
   "execution_count": 89,
   "metadata": {},
   "outputs": [],
   "source": [
    "y=np.array([[0],[1],[1],[0],[0]])\n"
   ]
  },
  {
   "cell_type": "code",
   "execution_count": 90,
   "metadata": {
    "collapsed": true
   },
   "outputs": [],
   "source": [
    "np.random.seed(1)"
   ]
  },
  {
   "cell_type": "code",
   "execution_count": 91,
   "metadata": {},
   "outputs": [
    {
     "name": "stdout",
     "output_type": "stream",
     "text": [
      "w0-shape=(3, 4)\n",
      "w1-shape=(4, 1)\n"
     ]
    }
   ],
   "source": [
    "w0=2*np.random.random((3,4))-1\n",
    "w1=2*np.random.random((4,1))-1\n",
    "print('w0-shape='+str(w0.shape))\n",
    "print('w1-shape='+str(w1.shape))"
   ]
  },
  {
   "cell_type": "code",
   "execution_count": 100,
   "metadata": {},
   "outputs": [
    {
     "name": "stdout",
     "output_type": "stream",
     "text": [
      "h1-shape=(5, 4)\n",
      "h2-shape=(5, 1)\n",
      " w1_delta=(5, 1)\n",
      " h1_error=(5, 4)\n",
      " w0_delta=(5, 4)\n"
     ]
    }
   ],
   "source": [
    "for j in range(1):\n",
    "    input=x\n",
    "    h1=sigmod(np.dot(input,w0))\n",
    "    print('h1-shape='+str(h1.shape))\n",
    "    h2=sigmod(np.dot(h1,w1))\n",
    "    print('h2-shape='+str(h2.shape))\n",
    "    h2_error=y-h2\n",
    "    w1_delta=h2_error*sigmod(h2,deriv=True)\n",
    "    print(' w1_delta='+str(w1_delta.shape))\n",
    "    h1_error=w1_delta.dot(w1.T)\n",
    "    print(' h1_error='+str(h1_error.shape))\n",
    "    w0_delta=h1_error*sigmod(h1,deriv=True)\n",
    "    print(' w0_delta='+str( w0_delta.shape))\n",
    "    w1+= h1.T.dot(w1_delta)\n",
    "    w0+=input.T.dot(w0_delta)\n",
    "    \n",
    "    \n",
    "   \n",
    "    \n",
    "    \n"
   ]
  },
  {
   "cell_type": "code",
   "execution_count": null,
   "metadata": {
    "collapsed": true
   },
   "outputs": [],
   "source": []
  }
 ],
 "metadata": {
  "kernelspec": {
   "display_name": "Python 3",
   "language": "python",
   "name": "python3"
  },
  "language_info": {
   "codemirror_mode": {
    "name": "ipython",
    "version": 3
   },
   "file_extension": ".py",
   "mimetype": "text/x-python",
   "name": "python",
   "nbconvert_exporter": "python",
   "pygments_lexer": "ipython3",
   "version": "3.6.2"
  }
 },
 "nbformat": 4,
 "nbformat_minor": 2
}
